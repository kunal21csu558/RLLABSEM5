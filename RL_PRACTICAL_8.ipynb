{
  "nbformat": 4,
  "nbformat_minor": 0,
  "metadata": {
    "colab": {
      "provenance": [],
      "authorship_tag": "ABX9TyMDoOXqubpjiYtu2oiSrqX2",
      "include_colab_link": true
    },
    "kernelspec": {
      "name": "python3",
      "display_name": "Python 3"
    },
    "language_info": {
      "name": "python"
    }
  },
  "cells": [
    {
      "cell_type": "markdown",
      "metadata": {
        "id": "view-in-github",
        "colab_type": "text"
      },
      "source": [
        "<a href=\"https://colab.research.google.com/github/harsh21CSU182/Harsh-Kaushik-RL/blob/main/RL_PRACTICAL_8.ipynb\" target=\"_parent\"><img src=\"https://colab.research.google.com/assets/colab-badge.svg\" alt=\"Open In Colab\"/></a>"
      ]
    },
    {
      "cell_type": "code",
      "execution_count": null,
      "metadata": {
        "colab": {
          "base_uri": "https://localhost:8080/"
        },
        "id": "AWSddlVAIMro",
        "outputId": "fcab9b41-6911-4b5e-c558-089d875aa359"
      },
      "outputs": [
        {
          "output_type": "stream",
          "name": "stdout",
          "text": [
            "\n",
            "Optimal Policy:\n",
            "[[0 3 0 3]\n",
            " [0 0 0 0]\n",
            " [3 1 0 0]\n",
            " [0 2 1 0]]\n",
            "\n",
            "Optimal Value Function:\n",
            "[[0.06888624 0.06141117 0.07440763 0.05580502]\n",
            " [0.09185097 0.         0.11220727 0.        ]\n",
            " [0.14543392 0.24749561 0.29961676 0.        ]\n",
            " [0.         0.37993504 0.63901974 0.        ]]\n"
          ]
        },
        {
          "output_type": "stream",
          "name": "stderr",
          "text": [
            "/usr/local/lib/python3.10/dist-packages/gym/core.py:317: DeprecationWarning: \u001b[33mWARN: Initializing wrapper in old step API which returns one bool instead of two. It is recommended to set `new_step_api=True` to use new step API. This will be the default behaviour in future.\u001b[0m\n",
            "  deprecation(\n",
            "/usr/local/lib/python3.10/dist-packages/gym/wrappers/step_api_compatibility.py:39: DeprecationWarning: \u001b[33mWARN: Initializing environment in old step API which returns one bool instead of two. It is recommended to set `new_step_api=True` to use new step API. This will be the default behaviour in future.\u001b[0m\n",
            "  deprecation(\n"
          ]
        }
      ],
      "source": [
        "import numpy as np\n",
        "import gym\n",
        "\n",
        "def value_iteration(env, gamma=0.9, epsilon=1e-6):\n",
        "    num_states = env.observation_space.n\n",
        "    num_actions = env.action_space.n\n",
        "\n",
        "    # Initialize value function arbitrarily\n",
        "    V = np.zeros(num_states)\n",
        "\n",
        "    while True:\n",
        "        delta = 0\n",
        "\n",
        "        for state in range(num_states):\n",
        "            v = V[state]\n",
        "\n",
        "            # Update the value function using the Bellman optimality equation\n",
        "            V[state] = max([sum(p * (r + gamma * V[next_state])\n",
        "                                for p, next_state, r, _ in env.P[state][action])\n",
        "                            for action in range(num_actions)])\n",
        "\n",
        "            # Update the maximum change in value\n",
        "            delta = max(delta, abs(v - V[state]))\n",
        "\n",
        "        # Check for convergence\n",
        "        if delta < epsilon:\n",
        "            break\n",
        "\n",
        "    # Extract the optimal policy based on the computed value function\n",
        "    optimal_policy = np.zeros(num_states, dtype=int)\n",
        "    for state in range(num_states):\n",
        "        optimal_policy[state] = np.argmax([sum(p * (r + gamma * V[next_state])\n",
        "                                               for p, next_state, r, _ in env.P[state][action])\n",
        "                                           for action in range(num_actions)])\n",
        "\n",
        "    return optimal_policy, V\n",
        "\n",
        "# Create a simple grid world environment using gym\n",
        "env = gym.make(\"FrozenLake-v1\")\n",
        "\n",
        "# Run value iteration\n",
        "optimal_policy, optimal_value_function = value_iteration(env)\n",
        "\n",
        "# Display results\n",
        "print(\"\\nOptimal Policy:\")\n",
        "print(optimal_policy.reshape((4, 4)))  # Assuming a 4x4 grid for FrozenLake\n",
        "\n",
        "print(\"\\nOptimal Value Function:\")\n",
        "print(optimal_value_function.reshape((4, 4)))  # Assuming a 4x4 grid for FrozenLake\n"
      ]
    },
    {
      "cell_type": "code",
      "source": [
        "import numpy as np\n",
        "\n",
        "def value_iteration(states, actions, transitions, rewards, gamma=0.9, epsilon=1e-6, max_iterations=1000):\n",
        "    num_states = len(states)\n",
        "    num_actions = len(actions)\n",
        "\n",
        "    V = np.zeros(num_states)\n",
        "\n",
        "    for _ in range(max_iterations):\n",
        "        prev_V = np.copy(V)\n",
        "\n",
        "        for s in range(num_states):\n",
        "            Q_values = [sum(transitions[s, a, s_prime] * (rewards[s, a, s_prime] + gamma * V[s_prime])\n",
        "                            for s_prime in range(num_states)) for a in range(num_actions)]\n",
        "\n",
        "            V[s] = max(Q_values)\n",
        "\n",
        "        if np.max(np.abs(V - prev_V)) < epsilon:\n",
        "            break\n",
        "\n",
        "    policy = [np.argmax([sum(transitions[s, a, s_prime] * (rewards[s, a, s_prime] + gamma * V[s_prime])\n",
        "                              for s_prime in range(num_states)) for a in range(num_actions)])\n",
        "              for s in range(num_states)]\n",
        "\n",
        "    return V, policy\n",
        "\n",
        "# Example usage:\n",
        "states = [0, 1, 2, 3]\n",
        "actions = [0, 1]\n",
        "transitions = np.array([[[0.5, 0.5, 0, 0], [0.7, 0.3, 0, 0]],\n",
        "                        [[0, 0.8, 0.2, 0], [0, 0, 1, 0]],\n",
        "                        [[0, 0, 0.4, 0.6], [0, 0, 0, 1]],\n",
        "                        [[0, 0, 0, 1], [0, 0, 0, 1]]])\n",
        "rewards = np.array([[[1, -1, 0, 0], [2, 0, 0, 0]],\n",
        "                    [[0, -1, 0, 0], [0, 0, 0, 0]],\n",
        "                    [[0, 0, 5, -1], [0, 0, 0, -1]],\n",
        "                    [[0, 0, 0, 10], [0, 0, 0, 10]]])\n",
        "\n",
        "optimal_value_function, optimal_policy = value_iteration(states, actions, transitions, rewards)\n",
        "print(\"Optimal Value Function:\", optimal_value_function)\n",
        "print(\"Optimal Policy:\", optimal_policy)"
      ],
      "metadata": {
        "colab": {
          "base_uri": "https://localhost:8080/"
        },
        "id": "R2_f5jy8JKpW",
        "outputId": "bd86943e-cc82-4511-9867-b19b9e2ee066"
      },
      "execution_count": null,
      "outputs": [
        {
          "output_type": "stream",
          "name": "stdout",
          "text": [
            "Optimal Value Function: [65.53635465 80.09999102 88.99999102 99.99999102]\n",
            "Optimal Policy: [0, 1, 1, 0]\n"
          ]
        }
      ]
    }
  ]
}