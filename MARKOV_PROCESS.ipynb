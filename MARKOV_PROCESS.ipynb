{
  "nbformat": 4,
  "nbformat_minor": 0,
  "metadata": {
    "colab": {
      "provenance": [],
      "authorship_tag": "ABX9TyOcYkHwx1OpdP4a89oqUGN2",
      "include_colab_link": true
    },
    "kernelspec": {
      "name": "python3",
      "display_name": "Python 3"
    },
    "language_info": {
      "name": "python"
    }
  },
  "cells": [
    {
      "cell_type": "markdown",
      "metadata": {
        "id": "view-in-github",
        "colab_type": "text"
      },
      "source": [
        "<a href=\"https://colab.research.google.com/github/harsh21CSU182/Harsh-Kaushik-RL/blob/main/MARKOV_PROCESS.ipynb\" target=\"_parent\"><img src=\"https://colab.research.google.com/assets/colab-badge.svg\" alt=\"Open In Colab\"/></a>"
      ]
    },
    {
      "cell_type": "code",
      "execution_count": null,
      "metadata": {
        "colab": {
          "base_uri": "https://localhost:8080/"
        },
        "id": "fOf4li81BCVv",
        "outputId": "dfddaa35-2bc6-49da-a8c3-21cf34851914"
      },
      "outputs": [
        {
          "output_type": "stream",
          "name": "stdout",
          "text": [
            "All is gonna be okay, you should move on!! ;)\n",
            "[['Sleep', 'Sleep'], ['Sleep', 'Run'], ['Sleep', 'Icecream'], ['Sleep', 'Sleep'], ['Sleep', 'Run'], ['Sleep', 'Run'], ['Sleep', 'Run'], ['Sleep', 'Icecream'], ['Sleep', 'Sleep'], ['Sleep', 'Run']]\n",
            "The probability of starting at state:'Sleep' and ending at state:'Run' = 50.0%\n"
          ]
        }
      ],
      "source": [
        "import numpy as np\n",
        "\n",
        "# The statespace\n",
        "states = [\"Sleep\", \"Icecream\", \"Run\"]\n",
        "\n",
        "# Possible sequences of events\n",
        "transitionName = [[\"SS\", \"SR\", \"SI\"], [\"RS\", \"RR\", \"RI\"], [\"IS\", \"IR\", \"II\"]]\n",
        "\n",
        "# Probabilities matrix (transition matrix)\n",
        "transitionMatrix = [[0.2, 0.6, 0.2], [0.1, 0.6, 0.3], [0.2, 0.7, 0.1]]\n",
        "\n",
        "if (\n",
        "    sum(transitionMatrix[0]) + sum(transitionMatrix[1]) + sum(transitionMatrix[2]) != 3\n",
        "):\n",
        "    print(\"Somewhere, something went wrong. Transition matrix, perhaps?\")\n",
        "else:\n",
        "    print(\"All is gonna be okay, you should move on!! ;)\")\n",
        "\n",
        "def activity_forecast(days):\n",
        "    # Choose the starting state\n",
        "    activityToday = \"Sleep\"\n",
        "    activityList = [activityToday]\n",
        "    i = 0\n",
        "    prob = 1\n",
        "    while i != days - 1:  # Corrected loop range\n",
        "        if activityToday == \"Sleep\":\n",
        "            change = np.random.choice(\n",
        "                transitionName[0], replace=True, p=transitionMatrix[0]\n",
        "            )\n",
        "            if change == \"SS\":\n",
        "                prob = prob * 0.2\n",
        "                activityList.append(\"Sleep\")\n",
        "                pass\n",
        "            elif change == \"SR\":\n",
        "                prob = prob * 0.6\n",
        "                activityToday = \"Run\"\n",
        "                activityList.append(\"Run\")\n",
        "            else:\n",
        "                prob = prob * 0.2\n",
        "                activityToday = \"Icecream\"\n",
        "                activityList.append(\"Icecream\")\n",
        "        elif activityToday == \"Run\":\n",
        "            change = np.random.choice(\n",
        "                transitionName[1], replace=True, p=transitionMatrix[1]\n",
        "            )\n",
        "            if change == \"RR\":\n",
        "                prob = prob * 0.5\n",
        "                activityList.append(\"Run\")\n",
        "                pass\n",
        "            elif change == \"RS\":\n",
        "                prob = prob * 0.2\n",
        "                activityToday = \"Sleep\"\n",
        "                activityList.append(\"Sleep\")\n",
        "            else:\n",
        "                prob = prob * 0.3\n",
        "                activityToday = \"Icecream\"\n",
        "                activityList.append(\"Icecream\")\n",
        "        elif activityToday == \"Icecream\":\n",
        "            change = np.random.choice(\n",
        "                transitionName[2], replace=True, p=transitionMatrix[2]\n",
        "            )\n",
        "            if change == \"II\":\n",
        "                prob = prob * 0.1\n",
        "                activityList.append(\"Icecream\")\n",
        "                pass\n",
        "            elif change == \"IS\":\n",
        "                prob = prob * 0.2\n",
        "                activityToday = \"Sleep\"\n",
        "                activityList.append(\"Sleep\")\n",
        "            else:\n",
        "                prob = prob * 0.7\n",
        "                activityToday = \"Run\"\n",
        "                activityList.append(\"Run\")\n",
        "        i += 1\n",
        "    return activityList\n",
        "\n",
        "# To save every activityList\n",
        "list_activity = []\n",
        "count = 0\n",
        "\n",
        "# `Range` starts from the first count up until but excluding the last count\n",
        "for iterations in range(1, 11):  # Corrected loop range\n",
        "    list_activity.append(activity_forecast(2))\n",
        "\n",
        "# Check out all the `activityList` we collected\n",
        "# print(list_activity)\n",
        "\n",
        "# Iterate through the list to get a count of all activities ending in state:'Run'\n",
        "for smaller_list in list_activity:\n",
        "    if smaller_list[-1] == \"Run\":  # Access the last element\n",
        "        count += 1\n",
        "\n",
        "# Calculate the probability of starting from state:'Sleep' and ending at state:'Run'\n",
        "percentage = (count / 10) * 100\n",
        "print(list_activity)\n",
        "print(\n",
        "    \"The probability of starting at state:'Sleep' and ending at state:'Run' = \"\n",
        "    + str(percentage)\n",
        "    + \"%\"\n",
        ")"
      ]
    }
  ]
}