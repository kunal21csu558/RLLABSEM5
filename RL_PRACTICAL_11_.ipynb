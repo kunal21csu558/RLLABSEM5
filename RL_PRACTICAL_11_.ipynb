{
  "nbformat": 4,
  "nbformat_minor": 0,
  "metadata": {
    "colab": {
      "provenance": [],
      "authorship_tag": "ABX9TyN06gyLTIvRtY0959gaUtnG",
      "include_colab_link": true
    },
    "kernelspec": {
      "name": "python3",
      "display_name": "Python 3"
    },
    "language_info": {
      "name": "python"
    }
  },
  "cells": [
    {
      "cell_type": "markdown",
      "metadata": {
        "id": "view-in-github",
        "colab_type": "text"
      },
      "source": [
        "<a href=\"https://colab.research.google.com/github/harsh21CSU182/Harsh-Kaushik-RL/blob/main/RL_PRACTICAL_11_.ipynb\" target=\"_parent\"><img src=\"https://colab.research.google.com/assets/colab-badge.svg\" alt=\"Open In Colab\"/></a>"
      ]
    },
    {
      "cell_type": "markdown",
      "source": [
        "# **METHOD 1**"
      ],
      "metadata": {
        "id": "sdgwNcD0-P0B"
      }
    },
    {
      "cell_type": "code",
      "execution_count": null,
      "metadata": {
        "id": "FqG1I47_5dyv"
      },
      "outputs": [],
      "source": [
        "import gym\n",
        "import numpy as np\n",
        "import operator\n",
        "from IPython.display import clear_output\n",
        "from time import sleep\n",
        "import random\n",
        "import itertools\n",
        "import tqdm\n",
        "\n",
        "tqdm.monitor_interval = 0"
      ]
    },
    {
      "cell_type": "code",
      "source": [
        "def create_random_policy(env):\n",
        "     policy = {}\n",
        "     for key in range(0, env.observation_space.n):\n",
        "          current_end = 0\n",
        "          p = {}\n",
        "          for action in range(0, env.action_space.n):\n",
        "               p[action] = 1 / env.action_space.n\n",
        "          policy[key] = p\n",
        "     return policy"
      ],
      "metadata": {
        "id": "BGLG0hLg5qfO"
      },
      "execution_count": null,
      "outputs": []
    },
    {
      "cell_type": "code",
      "source": [
        "def create_state_action_dictionary(env, policy):\n",
        "    Q = {}\n",
        "    for key in policy.keys():\n",
        "         Q[key] = {a: 0.0 for a in range(0, env.action_space.n)}\n",
        "    return Q"
      ],
      "metadata": {
        "id": "WKTXadNA5slV"
      },
      "execution_count": null,
      "outputs": []
    },
    {
      "cell_type": "code",
      "source": [
        "def run_game(env, policy, display=True):\n",
        "     env.reset()\n",
        "     episode = []\n",
        "     finished = False\n",
        "\n",
        "     while not finished:\n",
        "          s = env.env.s\n",
        "          if display:\n",
        "               clear_output(True)\n",
        "               env.render()\n",
        "               sleep(1)\n",
        "\n",
        "          timestep = []\n",
        "          timestep.append(s)\n",
        "          n = random.uniform(0, sum(policy[s].values()))\n",
        "          top_range = 0\n",
        "          for prob in policy[s].items():\n",
        "                top_range += prob[1]\n",
        "                if n < top_range:\n",
        "                      action = prob[0]\n",
        "                      break\n",
        "          state, reward, finished, info = env.step(action)\n",
        "          timestep.append(action)\n",
        "          timestep.append(reward)\n",
        "\n",
        "          episode.append(timestep)\n",
        "\n",
        "     if display:\n",
        "          clear_output(True)\n",
        "          env.render()\n",
        "          sleep(1)\n",
        "     return episode"
      ],
      "metadata": {
        "id": "i65rclXU5vIX"
      },
      "execution_count": null,
      "outputs": []
    },
    {
      "cell_type": "code",
      "source": [
        "def test_policy(policy, env):\n",
        "      wins = 0\n",
        "      r = 100\n",
        "      for i in range(r):\n",
        "            w = run_game(env, policy, display=False)[-1][-1]\n",
        "            if w == 1:\n",
        "                  wins += 1\n",
        "      return wins / r"
      ],
      "metadata": {
        "id": "Vl42BLqp5yn4"
      },
      "execution_count": null,
      "outputs": []
    },
    {
      "cell_type": "code",
      "source": [
        "def monte_carlo_e_soft(env, episodes=100, policy=None, epsilon=0.01):\n",
        "    if not policy:\n",
        "        policy = create_random_policy(env)  # Create an empty dictionary to store state action values\n",
        "    Q = create_state_action_dictionary(env, policy) # Empty dictionary for storing rewards for each state-action pair\n",
        "    returns = {} # 3.\n",
        "\n",
        "    for _ in range(episodes): # Looping through episodes\n",
        "        G = 0 # Store cumulative reward in G (initialized at 0)\n",
        "        episode = run_game(env=env, policy=policy, display=False) # Store state, action and value respectively\n",
        "\n",
        "        # for loop through reversed indices of episode array.\n",
        "        # The logic behind it being reversed is that the eventual reward would be at the end.\n",
        "        # So we have to go back from the last timestep to the first one propagating result from the future.\n",
        "\n",
        "        for i in reversed(range(0, len(episode))):\n",
        "            s_t, a_t, r_t = episode[i]\n",
        "            state_action = (s_t, a_t)\n",
        "            G += r_t # Increment total reward by reward on current timestep\n",
        "\n",
        "            if not state_action in [(x[0], x[1]) for x in episode[0:i]]: #\n",
        "                if returns.get(state_action):\n",
        "                    returns[state_action].append(G)\n",
        "                else:\n",
        "                    returns[state_action] = [G]\n",
        "\n",
        "                Q[s_t][a_t] = sum(returns[state_action]) / len(returns[state_action]) # Average reward across episodes\n",
        "\n",
        "                Q_list = list(map(lambda x: x[1], Q[s_t].items())) # Finding the action with maximum value\n",
        "                indices = [i for i, x in enumerate(Q_list) if x == max(Q_list)]\n",
        "                max_Q = random.choice(indices)\n",
        "\n",
        "                A_star = max_Q # 14.\n",
        "\n",
        "                for a in policy[s_t].items(): # Update action probability for s_t in policy\n",
        "                    if a[0] == A_star:\n",
        "                        policy[s_t][a[0]] = 1 - epsilon + (epsilon / abs(sum(policy[s_t].values())))\n",
        "                    else:\n",
        "                        policy[s_t][a[0]] = (epsilon / abs(sum(policy[s_t].values())))\n",
        "\n",
        "    return policy"
      ],
      "metadata": {
        "id": "e_i05p1j5zjV"
      },
      "execution_count": null,
      "outputs": []
    },
    {
      "cell_type": "code",
      "source": [
        "env=gym.make('FrozenLake8x8-v1')\n",
        "policy = monte_carlo_e_soft(env, episodes=5000)\n",
        "test_policy(policy, env)"
      ],
      "metadata": {
        "colab": {
          "base_uri": "https://localhost:8080/"
        },
        "id": "AeZjcw3Q51nQ",
        "outputId": "50780db5-c28c-4594-d0b7-54b546a82c12"
      },
      "execution_count": null,
      "outputs": [
        {
          "output_type": "execute_result",
          "data": {
            "text/plain": [
              "0.12"
            ]
          },
          "metadata": {},
          "execution_count": 8
        }
      ]
    },
    {
      "cell_type": "markdown",
      "source": [
        "# **METHOD 2**"
      ],
      "metadata": {
        "id": "NbJz1Y9A6aT4"
      }
    },
    {
      "cell_type": "code",
      "source": [
        "import gym\n",
        "\n",
        "# Create the FrozenLake environment\n",
        "env = gym.make('FrozenLake-v1')\n",
        "\n",
        "num_episodes = 100\n",
        "\n",
        "successful_episodes = 0\n",
        "unsuccessful_episodes = 0\n",
        "\n",
        "for episode in range(num_episodes):\n",
        "    state = env.reset()\n",
        "    done = False\n",
        "    total_reward = 0  # To keep track of the cumulative reward for each episode\n",
        "\n",
        "    while not done:\n",
        "        action = env.action_space.sample()  # Random action\n",
        "        next_state, reward, done, info = env.step(action)\n",
        "        total_reward += reward\n",
        "\n",
        "    if total_reward == 1.0:\n",
        "        successful_episodes += 1\n",
        "    else:\n",
        "        unsuccessful_episodes += 1\n",
        "\n",
        "    print(f\"Episode {episode + 1}, Total Reward: {total_reward}\")\n",
        "\n",
        "# Close the environment\n",
        "env.close()\n",
        "\n",
        "print(f\"\\n\\n\\nSuccessful Episodes: {successful_episodes}\")\n",
        "print(f\"\\nUnsuccessful Episodes: {unsuccessful_episodes}\")\n",
        "print(f\"\\n  % : {successful_episodes/num_episodes}\")\n"
      ],
      "metadata": {
        "colab": {
          "base_uri": "https://localhost:8080/"
        },
        "id": "f1-dZ7-F6dgO",
        "outputId": "1d9ca797-24db-4255-8952-e8bab5853b6e"
      },
      "execution_count": null,
      "outputs": [
        {
          "output_type": "stream",
          "name": "stdout",
          "text": [
            "Episode 1, Total Reward: 0.0\n",
            "Episode 2, Total Reward: 0.0\n",
            "Episode 3, Total Reward: 1.0\n",
            "Episode 4, Total Reward: 0.0\n",
            "Episode 5, Total Reward: 0.0\n",
            "Episode 6, Total Reward: 0.0\n",
            "Episode 7, Total Reward: 0.0\n",
            "Episode 8, Total Reward: 0.0\n",
            "Episode 9, Total Reward: 0.0\n",
            "Episode 10, Total Reward: 0.0\n",
            "Episode 11, Total Reward: 0.0\n",
            "Episode 12, Total Reward: 0.0\n",
            "Episode 13, Total Reward: 0.0\n",
            "Episode 14, Total Reward: 0.0\n",
            "Episode 15, Total Reward: 0.0\n",
            "Episode 16, Total Reward: 0.0\n",
            "Episode 17, Total Reward: 0.0\n",
            "Episode 18, Total Reward: 0.0\n",
            "Episode 19, Total Reward: 0.0\n",
            "Episode 20, Total Reward: 0.0\n",
            "Episode 21, Total Reward: 0.0\n",
            "Episode 22, Total Reward: 0.0\n",
            "Episode 23, Total Reward: 0.0\n",
            "Episode 24, Total Reward: 0.0\n",
            "Episode 25, Total Reward: 0.0\n",
            "Episode 26, Total Reward: 0.0\n",
            "Episode 27, Total Reward: 0.0\n",
            "Episode 28, Total Reward: 0.0\n",
            "Episode 29, Total Reward: 0.0\n",
            "Episode 30, Total Reward: 0.0\n",
            "Episode 31, Total Reward: 0.0\n",
            "Episode 32, Total Reward: 0.0\n",
            "Episode 33, Total Reward: 0.0\n",
            "Episode 34, Total Reward: 0.0\n",
            "Episode 35, Total Reward: 0.0\n",
            "Episode 36, Total Reward: 0.0\n",
            "Episode 37, Total Reward: 0.0\n",
            "Episode 38, Total Reward: 0.0\n",
            "Episode 39, Total Reward: 0.0\n",
            "Episode 40, Total Reward: 0.0\n",
            "Episode 41, Total Reward: 0.0\n",
            "Episode 42, Total Reward: 0.0\n",
            "Episode 43, Total Reward: 0.0\n",
            "Episode 44, Total Reward: 0.0\n",
            "Episode 45, Total Reward: 0.0\n",
            "Episode 46, Total Reward: 0.0\n",
            "Episode 47, Total Reward: 0.0\n",
            "Episode 48, Total Reward: 0.0\n",
            "Episode 49, Total Reward: 0.0\n",
            "Episode 50, Total Reward: 0.0\n",
            "Episode 51, Total Reward: 0.0\n",
            "Episode 52, Total Reward: 0.0\n",
            "Episode 53, Total Reward: 0.0\n",
            "Episode 54, Total Reward: 0.0\n",
            "Episode 55, Total Reward: 0.0\n",
            "Episode 56, Total Reward: 0.0\n",
            "Episode 57, Total Reward: 0.0\n",
            "Episode 58, Total Reward: 0.0\n",
            "Episode 59, Total Reward: 0.0\n",
            "Episode 60, Total Reward: 0.0\n",
            "Episode 61, Total Reward: 0.0\n",
            "Episode 62, Total Reward: 0.0\n",
            "Episode 63, Total Reward: 0.0\n",
            "Episode 64, Total Reward: 0.0\n",
            "Episode 65, Total Reward: 0.0\n",
            "Episode 66, Total Reward: 0.0\n",
            "Episode 67, Total Reward: 0.0\n",
            "Episode 68, Total Reward: 0.0\n",
            "Episode 69, Total Reward: 0.0\n",
            "Episode 70, Total Reward: 0.0\n",
            "Episode 71, Total Reward: 0.0\n",
            "Episode 72, Total Reward: 0.0\n",
            "Episode 73, Total Reward: 0.0\n",
            "Episode 74, Total Reward: 0.0\n",
            "Episode 75, Total Reward: 0.0\n",
            "Episode 76, Total Reward: 0.0\n",
            "Episode 77, Total Reward: 0.0\n",
            "Episode 78, Total Reward: 0.0\n",
            "Episode 79, Total Reward: 0.0\n",
            "Episode 80, Total Reward: 0.0\n",
            "Episode 81, Total Reward: 0.0\n",
            "Episode 82, Total Reward: 0.0\n",
            "Episode 83, Total Reward: 0.0\n",
            "Episode 84, Total Reward: 0.0\n",
            "Episode 85, Total Reward: 0.0\n",
            "Episode 86, Total Reward: 0.0\n",
            "Episode 87, Total Reward: 0.0\n",
            "Episode 88, Total Reward: 0.0\n",
            "Episode 89, Total Reward: 0.0\n",
            "Episode 90, Total Reward: 0.0\n",
            "Episode 91, Total Reward: 0.0\n",
            "Episode 92, Total Reward: 0.0\n",
            "Episode 93, Total Reward: 0.0\n",
            "Episode 94, Total Reward: 0.0\n",
            "Episode 95, Total Reward: 0.0\n",
            "Episode 96, Total Reward: 0.0\n",
            "Episode 97, Total Reward: 0.0\n",
            "Episode 98, Total Reward: 0.0\n",
            "Episode 99, Total Reward: 0.0\n",
            "Episode 100, Total Reward: 0.0\n",
            "\n",
            "\n",
            "\n",
            "Successful Episodes: 1\n",
            "\n",
            "Unsuccessful Episodes: 99\n",
            "\n",
            "  % : 0.01\n"
          ]
        },
        {
          "output_type": "stream",
          "name": "stderr",
          "text": [
            "/usr/local/lib/python3.10/dist-packages/gym/core.py:317: DeprecationWarning: \u001b[33mWARN: Initializing wrapper in old step API which returns one bool instead of two. It is recommended to set `new_step_api=True` to use new step API. This will be the default behaviour in future.\u001b[0m\n",
            "  deprecation(\n",
            "/usr/local/lib/python3.10/dist-packages/gym/wrappers/step_api_compatibility.py:39: DeprecationWarning: \u001b[33mWARN: Initializing environment in old step API which returns one bool instead of two. It is recommended to set `new_step_api=True` to use new step API. This will be the default behaviour in future.\u001b[0m\n",
            "  deprecation(\n"
          ]
        }
      ]
    },
    {
      "cell_type": "markdown",
      "source": [
        "# **METHOD 3**"
      ],
      "metadata": {
        "id": "RQc3byCM9Fwr"
      }
    },
    {
      "cell_type": "markdown",
      "source": [
        "# Reinforcement Learning: Introduction to Monte Carlo Learning using the OpenAI Gym Toolkit"
      ],
      "metadata": {
        "id": "0rWMYpAJ8Oo1"
      }
    },
    {
      "cell_type": "markdown",
      "source": [
        "Function for Random Policy\n",
        "\n"
      ],
      "metadata": {
        "id": "n4vLfQ608cG5"
      }
    },
    {
      "cell_type": "code",
      "source": [
        "def create_random_policy(env):\n",
        "     policy = {}\n",
        "     for key in range(0, env.observation_space.n):\n",
        "          current_end = 0\n",
        "          p = {}\n",
        "          for action in range(0, env.action_space.n):\n",
        "               p[action] = 1 / env.action_space.n\n",
        "          policy[key] = p\n",
        "     return policy"
      ],
      "metadata": {
        "id": "n3hyhYpT8OPF"
      },
      "execution_count": null,
      "outputs": []
    },
    {
      "cell_type": "markdown",
      "source": [
        "Dictionary for storing the state action value\n",
        "\n"
      ],
      "metadata": {
        "id": "N3ZIUe_R8fmo"
      }
    },
    {
      "cell_type": "code",
      "source": [
        "def create_state_action_dictionary(env, policy):\n",
        "    Q = {}\n",
        "    for key in policy.keys():\n",
        "         Q[key] = {a: 0.0 for a in range(0, env.action_space.n)}\n",
        "    return Q"
      ],
      "metadata": {
        "id": "ExICMI-Y8i0d"
      },
      "execution_count": null,
      "outputs": []
    },
    {
      "cell_type": "markdown",
      "source": [
        "Function to play episode"
      ],
      "metadata": {
        "id": "GBqO6R_L8mwE"
      }
    },
    {
      "cell_type": "code",
      "source": [
        "def run_game(env, policy, display=True):\n",
        "     env.reset()\n",
        "     episode = []\n",
        "     finished = False\n",
        "\n",
        "     while not finished:\n",
        "          s = env.env.s\n",
        "          if display:\n",
        "               clear_output(True)\n",
        "               env.render()\n",
        "               sleep(1)\n",
        "\n",
        "          timestep = []\n",
        "          timestep.append(s)\n",
        "          n = random.uniform(0, sum(policy[s].values()))\n",
        "          top_range = 0\n",
        "          for prob in policy[s].items():\n",
        "                 top_range += prob[1]\n",
        "                 if n < top_range:\n",
        "                       action = prob[0]\n",
        "                       break\n",
        "          state, reward, finished, info = env.step(action)\n",
        "          timestep.append(action)\n",
        "          timestep.append(reward)\n",
        "\n",
        "          episode.append(timestep)\n",
        "\n",
        "     if display:\n",
        "          clear_output(True)\n",
        "          env.render()\n",
        "          sleep(1)\n",
        "     return episode"
      ],
      "metadata": {
        "id": "PNwaJszY81jt"
      },
      "execution_count": null,
      "outputs": []
    },
    {
      "cell_type": "markdown",
      "source": [
        "Function to test policy and print win percentage"
      ],
      "metadata": {
        "id": "UjZlfRq39QSe"
      }
    },
    {
      "cell_type": "code",
      "source": [
        "def test_policy(policy, env):\n",
        "      wins = 0\n",
        "      r = 100\n",
        "      for i in range(r):\n",
        "            w = run_game(env, policy, display=False)[-1][-1]\n",
        "            if w == 1:\n",
        "                  wins += 1\n",
        "      return wins / r"
      ],
      "metadata": {
        "id": "oBjMLDSy9Wns"
      },
      "execution_count": null,
      "outputs": []
    },
    {
      "cell_type": "markdown",
      "source": [
        "First Visit Monte Carlo Prediction and Control"
      ],
      "metadata": {
        "id": "dZ2kWHac82o5"
      }
    },
    {
      "cell_type": "code",
      "source": [
        "def monte_carlo_e_soft(env, episodes=100, policy=None, epsilon=0.01):\n",
        "    if not policy:\n",
        "        policy = create_random_policy(env)  # Create an empty dictionary to store state action values\n",
        "    Q = create_state_action_dictionary(env, policy) # Empty dictionary for storing rewards for each state-action pair\n",
        "    returns = {} # 3.\n",
        "\n",
        "    for _ in range(episodes): # Looping through episodes\n",
        "        G = 0 # Store cumulative reward in G (initialized at 0)\n",
        "        episode = run_game(env=env, policy=policy, display=False) # Store state, action and value respectively\n",
        "\n",
        "        # for loop through reversed indices of episode array.\n",
        "        # The logic behind it being reversed is that the eventual reward would be at the end.\n",
        "        # So we have to go back from the last timestep to the first one propagating result from the future.\n",
        "\n",
        "        for i in reversed(range(0, len(episode))):\n",
        "            s_t, a_t, r_t = episode[i]\n",
        "            state_action = (s_t, a_t)\n",
        "            G += r_t # Increment total reward by reward on current timestep\n",
        "\n",
        "            if not state_action in [(x[0], x[1]) for x in episode[0:i]]: #\n",
        "                if returns.get(state_action):\n",
        "                    returns[state_action].append(G)\n",
        "                else:\n",
        "                    returns[state_action] = [G]\n",
        "\n",
        "                Q[s_t][a_t] = sum(returns[state_action]) / len(returns[state_action]) # Average reward across episodes\n",
        "\n",
        "                Q_list = list(map(lambda x: x[1], Q[s_t].items())) # Finding the action with maximum value\n",
        "                indices = [i for i, x in enumerate(Q_list) if x == max(Q_list)]\n",
        "                max_Q = random.choice(indices)\n",
        "\n",
        "                A_star = max_Q # 14.\n",
        "\n",
        "                for a in policy[s_t].items(): # Update action probability for s_t in policy\n",
        "                    if a[0] == A_star:\n",
        "                        policy[s_t][a[0]] = 1 - epsilon + (epsilon / abs(sum(policy[s_t].values())))\n",
        "                    else:\n",
        "                        policy[s_t][a[0]] = (epsilon / abs(sum(policy[s_t].values())))\n",
        "\n",
        "    return policy\n"
      ],
      "metadata": {
        "id": "cFLgKwhc85uX"
      },
      "execution_count": null,
      "outputs": []
    },
    {
      "cell_type": "code",
      "source": [
        "env=gym.make('FrozenLake8x8-v1')\n",
        "policy = monte_carlo_e_soft(env, episodes=5000)\n",
        "test_policy(policy, env)"
      ],
      "metadata": {
        "colab": {
          "base_uri": "https://localhost:8080/"
        },
        "id": "KHcOyhX79zuP",
        "outputId": "5933719e-07af-4d0f-c3e0-5eb7b3945f7e"
      },
      "execution_count": null,
      "outputs": [
        {
          "output_type": "execute_result",
          "data": {
            "text/plain": [
              "0.07"
            ]
          },
          "metadata": {},
          "execution_count": 13
        }
      ]
    }
  ]
}