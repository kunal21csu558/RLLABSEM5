{
  "nbformat": 4,
  "nbformat_minor": 0,
  "metadata": {
    "colab": {
      "provenance": [],
      "authorship_tag": "ABX9TyOkxUi0q1shcKEhZocuBJCa",
      "include_colab_link": true
    },
    "kernelspec": {
      "name": "python3",
      "display_name": "Python 3"
    },
    "language_info": {
      "name": "python"
    }
  },
  "cells": [
    {
      "cell_type": "markdown",
      "metadata": {
        "id": "view-in-github",
        "colab_type": "text"
      },
      "source": [
        "<a href=\"https://colab.research.google.com/github/Khushal21csu188/RLLAB-SEM-5/blob/main/RL_EXP_7.ipynb\" target=\"_parent\"><img src=\"https://colab.research.google.com/assets/colab-badge.svg\" alt=\"Open In Colab\"/></a>"
      ]
    },
    {
      "cell_type": "code",
      "execution_count": 5,
      "metadata": {
        "colab": {
          "base_uri": "https://localhost:8080/"
        },
        "id": "juCwo9OrqJ-w",
        "outputId": "89f7340f-5169-43ba-86af-3741ec63f083"
      },
      "outputs": [
        {
          "output_type": "stream",
          "name": "stdout",
          "text": [
            "Initial policy [0, 0, 0, 0, 0]\n",
            "Iterations 126\n",
            "Final Policy\n",
            "[0, 1, 0, 1, 0]\n",
            "[ 487.890625  649.1875    852.25     1003.          4.      ]\n"
          ]
        }
      ],
      "source": [
        "import numpy as np\n",
        "\n",
        "states = [0, 1, 2, 3, 4]\n",
        "actions = [0, 1]\n",
        "N_STATES = len(states)\n",
        "N_ACTIONS = len(actions)\n",
        "P = np.zeros((N_STATES, N_ACTIONS, N_STATES))  # transition probability\n",
        "R = np.zeros((N_STATES, N_ACTIONS, N_STATES))  # rewards\n",
        "P[0, 0, 1] = 1.0  # STATE ACTION and Reward\n",
        "P[1, 1, 2] = 1.0\n",
        "P[2, 0, 3] = 1.0\n",
        "P[3, 1, 4] = 1.0\n",
        "P[4, 0, 4] = 1.0\n",
        "\n",
        "R[0, 0, 1] = 1\n",
        "R[1, 1, 2] = 10\n",
        "R[2, 0, 3] = 100\n",
        "R[3, 1, 4] = 1000\n",
        "R[4, 0, 4] = 1.0\n",
        "gamma = 0.75\n",
        "\n",
        "# initialize policy and value arbitrarily\n",
        "\n",
        "policy = [0 for s in range(N_STATES)]\n",
        "V = np.zeros(N_STATES)\n",
        "\n",
        "print(\"Initial policy\", policy)\n",
        "# print V\n",
        "# Initial policy [0, 0, 0, 0, 0]\n",
        "is_value_changed = True\n",
        "iterations = 0\n",
        "\n",
        "while is_value_changed:\n",
        "    is_value_changed = False\n",
        "    iterations += 1\n",
        "    # run value iteration for each state\n",
        "    for s in range(N_STATES):\n",
        "        q_best = V[s]\n",
        "        for a in range(N_ACTIONS):\n",
        "            q_sa = sum([P[s, a, s1] * (R[s, a, s1] + gamma * V[s1]) for s1 in range(N_STATES)])\n",
        "            if q_sa > q_best:\n",
        "                policy[s] = a\n",
        "                q_best = q_sa\n",
        "                is_value_changed = True\n",
        "        V[s] = q_best\n",
        "\n",
        "print(\"Iterations\", iterations)\n",
        "print(\"Final Policy\")\n",
        "print(policy)\n",
        "print(V)\n",
        "\n"
      ]
    }
  ]
}