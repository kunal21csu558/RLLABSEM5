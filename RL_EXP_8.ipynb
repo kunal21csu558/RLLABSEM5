{
  "nbformat": 4,
  "nbformat_minor": 0,
  "metadata": {
    "colab": {
      "provenance": [],
      "authorship_tag": "ABX9TyMSmg5zhf7HAHQJvCRHUABl",
      "include_colab_link": true
    },
    "kernelspec": {
      "name": "python3",
      "display_name": "Python 3"
    },
    "language_info": {
      "name": "python"
    }
  },
  "cells": [
    {
      "cell_type": "markdown",
      "metadata": {
        "id": "view-in-github",
        "colab_type": "text"
      },
      "source": [
        "<a href=\"https://colab.research.google.com/github/Khushal21csu188/RLLAB-SEM-5/blob/main/RL_EXP_8.ipynb\" target=\"_parent\"><img src=\"https://colab.research.google.com/assets/colab-badge.svg\" alt=\"Open In Colab\"/></a>"
      ]
    },
    {
      "cell_type": "code",
      "execution_count": 2,
      "metadata": {
        "colab": {
          "base_uri": "https://localhost:8080/"
        },
        "id": "DS3zrzJBs01I",
        "outputId": "893282b3-fe22-4960-9984-0bce8ff5eb2a"
      },
      "outputs": [
        {
          "output_type": "stream",
          "name": "stdout",
          "text": [
            "Optimal Value Function: [65.53635465 80.09999102 88.99999102 99.99999102]\n",
            "Optimal Policy: [0, 1, 1, 0]\n"
          ]
        }
      ],
      "source": [
        "import numpy as np\n",
        "\n",
        "def value_iteration(states, actions, transitions, rewards, gamma=0.9, epsilon=1e-6, max_iterations=1000):\n",
        "    num_states = len(states)\n",
        "    num_actions = len(actions)\n",
        "\n",
        "    V = np.zeros(num_states)\n",
        "\n",
        "    for _ in range(max_iterations):\n",
        "        prev_V = np.copy(V)\n",
        "\n",
        "        for s in range(num_states):\n",
        "            Q_values = [sum(transitions[s, a, s_prime] * (rewards[s, a, s_prime] + gamma * V[s_prime])\n",
        "                            for s_prime in range(num_states)) for a in range(num_actions)]\n",
        "\n",
        "            V[s] = max(Q_values)\n",
        "\n",
        "        if np.max(np.abs(V - prev_V)) < epsilon:\n",
        "            break\n",
        "\n",
        "    policy = [np.argmax([sum(transitions[s, a, s_prime] * (rewards[s, a, s_prime] + gamma * V[s_prime])\n",
        "                              for s_prime in range(num_states)) for a in range(num_actions)])\n",
        "              for s in range(num_states)]\n",
        "\n",
        "    return V, policy\n",
        "\n",
        "# Example usage:\n",
        "states = [0, 1, 2, 3]\n",
        "actions = [0, 1]\n",
        "transitions = np.array([[[0.5, 0.5, 0, 0], [0.7, 0.3, 0, 0]],\n",
        "                        [[0, 0.8, 0.2, 0], [0, 0, 1, 0]],\n",
        "                        [[0, 0, 0.4, 0.6], [0, 0, 0, 1]],\n",
        "                        [[0, 0, 0, 1], [0, 0, 0, 1]]])\n",
        "rewards = np.array([[[1, -1, 0, 0], [2, 0, 0, 0]],\n",
        "                    [[0, -1, 0, 0], [0, 0, 0, 0]],\n",
        "                    [[0, 0, 5, -1], [0, 0, 0, -1]],\n",
        "                    [[0, 0, 0, 10], [0, 0, 0, 10]]])\n",
        "\n",
        "optimal_value_function, optimal_policy = value_iteration(states, actions, transitions, rewards)\n",
        "print(\"Optimal Value Function:\", optimal_value_function)\n",
        "print(\"Optimal Policy:\", optimal_policy)\n"
      ]
    }
  ]
}