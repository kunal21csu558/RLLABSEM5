{
  "nbformat": 4,
  "nbformat_minor": 0,
  "metadata": {
    "colab": {
      "provenance": [],
      "authorship_tag": "ABX9TyPmDBUeW17Au2IEyWORYyPi",
      "include_colab_link": true
    },
    "kernelspec": {
      "name": "python3",
      "display_name": "Python 3"
    },
    "language_info": {
      "name": "python"
    }
  },
  "cells": [
    {
      "cell_type": "markdown",
      "metadata": {
        "id": "view-in-github",
        "colab_type": "text"
      },
      "source": [
        "<a href=\"https://colab.research.google.com/github/Khushal21csu188/RLLAB-SEM-5/blob/main/RL_EXP_3.ipynb\" target=\"_parent\"><img src=\"https://colab.research.google.com/assets/colab-badge.svg\" alt=\"Open In Colab\"/></a>"
      ]
    },
    {
      "cell_type": "markdown",
      "source": [
        "**GREEDY**"
      ],
      "metadata": {
        "id": "BoJIyO4zLLTL"
      }
    },
    {
      "cell_type": "code",
      "execution_count": 1,
      "metadata": {
        "colab": {
          "base_uri": "https://localhost:8080/"
        },
        "id": "ajgSDFCALHxW",
        "outputId": "28f11e9c-de8c-40b0-ab90-d8d2dc4d963d"
      },
      "outputs": [
        {
          "output_type": "stream",
          "name": "stdout",
          "text": [
            "Average reward using Greedy Approach: 10.0\n",
            "Lamp chosen 1\n"
          ]
        }
      ],
      "source": [
        "import random\n",
        "\n",
        "def greedy_approach(lamp_durations):\n",
        "    best_lamp = None\n",
        "    max_duration = 0\n",
        "\n",
        "    for lamp, duration in enumerate(lamp_durations):\n",
        "        if duration > max_duration:\n",
        "            max_duration = duration\n",
        "            best_lamp = lamp\n",
        "\n",
        "    return best_lamp\n",
        "\n",
        "num_lamps = 5\n",
        "lamp_durations = [random.randint(1, 10) for i in range(num_lamps)]  # Generate random durations\n",
        "steps = 1000\n",
        "\n",
        "total_reward = 0\n",
        "for i in range(steps):\n",
        "    chosen_lamp = greedy_approach(lamp_durations)\n",
        "    reward = lamp_durations[chosen_lamp]\n",
        "    total_reward += reward\n",
        "\n",
        "average_reward = total_reward / steps\n",
        "print(\"Average reward using Greedy Approach:\", average_reward)\n",
        "print(\"Lamp chosen\",chosen_lamp)"
      ]
    },
    {
      "cell_type": "markdown",
      "source": [
        "**UCB**"
      ],
      "metadata": {
        "id": "ElX6nlMNLeFE"
      }
    },
    {
      "cell_type": "code",
      "source": [
        "import numpy as np\n",
        "import matplotlib.pyplot as plt\n",
        "\n",
        "# Number of arms (bandit machines)\n",
        "num_arms = 5\n",
        "\n",
        "# True mean reward for each arm (unknown to the algorithm)\n",
        "true_means = np.random.rand(num_arms)\n",
        "\n",
        "# Number of time steps\n",
        "num_steps = 1000\n",
        "\n",
        "# Initialize variables for tracking rewards and action counts\n",
        "total_rewards = np.zeros(num_arms)\n",
        "action_counts = np.zeros(num_arms)\n",
        "\n",
        "# Initialize the UCB values for each arm\n",
        "ucb_values = np.zeros(num_arms)\n",
        "\n",
        "# Initialize the list to store the history of selected arms\n",
        "chosen_arms = []\n",
        "\n",
        "# Exploration parameter (tune this value)\n",
        "exploration_parameter = 2.0\n",
        "\n",
        "# Run the UCB algorithm\n",
        "for t in range(num_steps):\n",
        "    # Select an arm based on UCB values\n",
        "    selected_arm = np.argmax(ucb_values)\n",
        "\n",
        "    # Simulate pulling the selected arm and observe the reward (sample from a Gaussian distribution with true mean)\n",
        "    reward = np.random.normal(true_means[selected_arm], 1)\n",
        "\n",
        "    # Update total rewards and action counts\n",
        "    total_rewards[selected_arm] += reward\n",
        "    action_counts[selected_arm] += 1\n",
        "\n",
        "    # Update UCB values for all arms\n",
        "    for arm in range(num_arms):\n",
        "        if action_counts[arm] == 0:\n",
        "            # If an arm hasn't been pulled yet, set its UCB value to a high value to encourage exploration\n",
        "            ucb_values[arm] = float('inf')\n",
        "        else:\n",
        "            # Calculate UCB value for the arm\n",
        "            mean_reward = total_rewards[arm] / action_counts[arm]\n",
        "            exploration_bonus = exploration_parameter * np.sqrt(np.log(t + 1) / action_counts[arm])\n",
        "            ucb_values[arm] = mean_reward + exploration_bonus\n",
        "\n",
        "    # Record the selected arm for this time step\n",
        "    chosen_arms.append(selected_arm)\n",
        "\n",
        "# Print the estimated means for each arm\n",
        "for arm in range(num_arms):\n",
        "    estimated_mean = total_rewards[arm] / action_counts[arm]\n",
        "    print(f\"Arm {arm}: Estimated Mean = {estimated_mean}\")\n",
        "\n",
        "# Plot the results\n",
        "plt.plot(chosen_arms)\n",
        "plt.xlabel(\"Time Step\")\n",
        "plt.ylabel(\"Selected Arm\")\n",
        "plt.title(\"UCB Algorithm\")\n",
        "plt.show()"
      ],
      "metadata": {
        "colab": {
          "base_uri": "https://localhost:8080/",
          "height": 564
        },
        "id": "7aRp4po8Lg1s",
        "outputId": "3136b2e5-faf8-4f92-db42-0f72b4a14647"
      },
      "execution_count": 2,
      "outputs": [
        {
          "output_type": "stream",
          "name": "stdout",
          "text": [
            "Arm 0: Estimated Mean = 0.31745079082058447\n",
            "Arm 1: Estimated Mean = 0.911016730671784\n",
            "Arm 2: Estimated Mean = 0.19353884368078839\n",
            "Arm 3: Estimated Mean = 0.3669125184005167\n",
            "Arm 4: Estimated Mean = 0.22581573775389058\n"
          ]
        },
        {
          "output_type": "display_data",
          "data": {
            "text/plain": [
              "<Figure size 640x480 with 1 Axes>"
            ],
            "image/png": "[encoded data removed]"
          },
          "metadata": {}
        }
      ]
    },
    {
      "cell_type": "markdown",
      "source": [
        "**OPTIMISTIC GREEDY**"
      ],
      "metadata": {
        "id": "zUpVOcFTL-dh"
      }
    },
    {
      "cell_type": "code",
      "source": [
        "import random\n",
        "\n",
        "def optimistic_approach(lamp_durations):\n",
        "    num_lamps = len(lamp_durations)\n",
        "    estimated_durations = [10] * num_lamps  # Initialize with optimistic estimates\n",
        "    chosen_lamp = None\n",
        "\n",
        "    for lamp, _ in enumerate(lamp_durations):\n",
        "        observed_duration = random.randint(1, 10)  # Generate random observed duration\n",
        "        estimated_durations[lamp] = observed_duration\n",
        "\n",
        "    for _ in range(steps):\n",
        "        chosen_lamp = estimated_durations.index(max(estimated_durations))\n",
        "        reward = lamp_durations[chosen_lamp]\n",
        "        observed_duration = random.randint(1, 10)  # Generate random observed duration\n",
        "        estimated_durations[chosen_lamp] = (estimated_durations[chosen_lamp] + observed_duration) / 2\n",
        "\n",
        "    return chosen_lamp\n",
        "\n",
        "num_lamps = 5\n",
        "lamp_durations = [random.randint(1, 10) for _ in range(num_lamps)]  # Generate random durations\n",
        "steps = 1000\n",
        "\n",
        "total_reward = 0\n",
        "for _ in range(steps):\n",
        "    chosen_lamp = optimistic_approach(lamp_durations)\n",
        "    reward = lamp_durations[chosen_lamp]\n",
        "    total_reward += reward\n",
        "\n",
        "average_reward = total_reward / steps\n",
        "print(\"Average reward using Optimistic Approach:\", average_reward)\n"
      ],
      "metadata": {
        "colab": {
          "base_uri": "https://localhost:8080/"
        },
        "id": "XTVJUmxnMByN",
        "outputId": "c4633ec6-151e-4498-aba6-0cee32c595fd"
      },
      "execution_count": 3,
      "outputs": [
        {
          "output_type": "stream",
          "name": "stdout",
          "text": [
            "Average reward using Optimistic Approach: 4.668\n"
          ]
        }
      ]
    },
    {
      "cell_type": "markdown",
      "source": [
        "**EPSILON**"
      ],
      "metadata": {
        "id": "ojeiDKFeMPH9"
      }
    },
    {
      "cell_type": "code",
      "source": [
        "import random\n",
        "\n",
        "def epsilon_greedy_approach(lamp_durations, epsilon):\n",
        "    num_lamps = len(lamp_durations)\n",
        "    chosen_lamp = None\n",
        "\n",
        "    for _ in range(steps):\n",
        "        if random.random() < epsilon:\n",
        "            chosen_lamp = random.randint(0, num_lamps - 1)\n",
        "        else:\n",
        "            chosen_lamp = lamp_durations.index(max(lamp_durations))\n",
        "        reward = lamp_durations[chosen_lamp]\n",
        "        observed_duration = random.randint(1, 10)  # Generate random observed duration\n",
        "        lamp_durations[chosen_lamp] = (lamp_durations[chosen_lamp] + observed_duration) / 2\n",
        "\n",
        "    return chosen_lamp\n",
        "\n",
        "num_lamps = 5\n",
        "lamp_durations = [random.randint(1, 10) for _ in range(num_lamps)]  # Generate random durations\n",
        "steps = 1000\n",
        "exploration_probability = 0.1  # Set epsilon value\n",
        "\n",
        "total_reward = 0\n",
        "for _ in range(steps):\n",
        "    chosen_lamp = epsilon_greedy_approach(lamp_durations, exploration_probability)\n",
        "    reward = lamp_durations[chosen_lamp]\n",
        "    total_reward += reward\n",
        "\n",
        "average_reward = total_reward / steps\n",
        "print(\"Average reward using Epsilon-Greedy Approach:\", average_reward)\n"
      ],
      "metadata": {
        "colab": {
          "base_uri": "https://localhost:8080/"
        },
        "id": "jVLgW3yRMTGA",
        "outputId": "f1462d74-558b-49f2-a1e6-a51d4763c731"
      },
      "execution_count": 4,
      "outputs": [
        {
          "output_type": "stream",
          "name": "stdout",
          "text": [
            "Average reward using Epsilon-Greedy Approach: 5.530795493411025\n"
          ]
        }
      ]
    }
  ]
}